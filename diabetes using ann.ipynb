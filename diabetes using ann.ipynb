{
 "cells": [
  {
   "cell_type": "code",
   "execution_count": null,
   "metadata": {
    "execution": {
     "iopub.execute_input": "2022-10-12T18:19:21.649459Z",
     "iopub.status.busy": "2022-10-12T18:19:21.648938Z",
     "iopub.status.idle": "2022-10-12T18:19:22.764362Z",
     "shell.execute_reply": "2022-10-12T18:19:22.763529Z",
     "shell.execute_reply.started": "2022-10-12T18:19:21.649358Z"
    }
   },
   "outputs": [],
   "source": [
    "import numpy as np \n",
    "import pandas as pd \n",
    "from scipy import stats \n",
    "import seaborn as sns \n",
    "data= pd.read_csv('../input/diabetes-data-set/diabetes.csv')\n",
    "data.head()"
   ]
  },
  {
   "cell_type": "code",
   "execution_count": null,
   "metadata": {
    "execution": {
     "iopub.execute_input": "2022-10-12T18:19:28.269511Z",
     "iopub.status.busy": "2022-10-12T18:19:28.26898Z",
     "iopub.status.idle": "2022-10-12T18:19:28.297431Z",
     "shell.execute_reply": "2022-10-12T18:19:28.296167Z",
     "shell.execute_reply.started": "2022-10-12T18:19:28.269464Z"
    }
   },
   "outputs": [],
   "source": [
    "data.info()"
   ]
  },
  {
   "cell_type": "code",
   "execution_count": null,
   "metadata": {
    "execution": {
     "iopub.execute_input": "2022-10-12T18:19:31.239179Z",
     "iopub.status.busy": "2022-10-12T18:19:31.238781Z",
     "iopub.status.idle": "2022-10-12T18:19:31.248147Z",
     "shell.execute_reply": "2022-10-12T18:19:31.247081Z",
     "shell.execute_reply.started": "2022-10-12T18:19:31.239146Z"
    }
   },
   "outputs": [],
   "source": [
    "data.isnull().sum()"
   ]
  },
  {
   "cell_type": "code",
   "execution_count": null,
   "metadata": {
    "execution": {
     "iopub.execute_input": "2022-10-12T18:19:33.359194Z",
     "iopub.status.busy": "2022-10-12T18:19:33.358538Z",
     "iopub.status.idle": "2022-10-12T18:19:33.380696Z",
     "shell.execute_reply": "2022-10-12T18:19:33.379556Z",
     "shell.execute_reply.started": "2022-10-12T18:19:33.359155Z"
    }
   },
   "outputs": [],
   "source": [
    "data.duplicated()\n",
    "data=data.drop_duplicates()\n",
    "data.head()"
   ]
  },
  {
   "cell_type": "markdown",
   "metadata": {},
   "source": [
    "The data doesn't contain any duplicate values also. Hence we need not worry about them."
   ]
  },
  {
   "cell_type": "code",
   "execution_count": null,
   "metadata": {
    "execution": {
     "iopub.execute_input": "2022-10-12T18:19:35.179067Z",
     "iopub.status.busy": "2022-10-12T18:19:35.178636Z",
     "iopub.status.idle": "2022-10-12T18:19:35.218874Z",
     "shell.execute_reply": "2022-10-12T18:19:35.217638Z",
     "shell.execute_reply.started": "2022-10-12T18:19:35.17903Z"
    }
   },
   "outputs": [],
   "source": [
    "data.describe()"
   ]
  },
  {
   "cell_type": "markdown",
   "metadata": {},
   "source": [
    "All bioparameters are in the range. Hence the data does not have observational/structural errors in them. Hence we need to worry about them."
   ]
  },
  {
   "cell_type": "code",
   "execution_count": null,
   "metadata": {
    "execution": {
     "iopub.execute_input": "2022-10-12T18:19:37.866932Z",
     "iopub.status.busy": "2022-10-12T18:19:37.866543Z",
     "iopub.status.idle": "2022-10-12T18:19:37.910921Z",
     "shell.execute_reply": "2022-10-12T18:19:37.909795Z",
     "shell.execute_reply.started": "2022-10-12T18:19:37.8669Z"
    }
   },
   "outputs": [],
   "source": [
    "for x in data.columns:\n",
    "    z=np.abs(stats.zscore(data[x]))\n",
    "    print(x+str(z))"
   ]
  },
  {
   "cell_type": "markdown",
   "metadata": {},
   "source": [
    "According to the z-score statistical parameter, the above datapoints are considered as outliers. But I dont think these are outliers and I consider that these data are essential for identfying diabetes condition."
   ]
  },
  {
   "cell_type": "markdown",
   "metadata": {},
   "source": [
    "The next step is feature scaling. I am doing a comparison of ML and DL for this dataset. For ML, i am considering SVM, which is a distance based algorithm. Hence normalization of data would be appropriate. On the other hand, for DL I am considering ANN, which is gradient descent based algorithm for which standardisation of data would be appropriate, since it can help in faster identification of local minima."
   ]
  },
  {
   "cell_type": "code",
   "execution_count": null,
   "metadata": {
    "execution": {
     "iopub.execute_input": "2022-10-12T18:19:38.357385Z",
     "iopub.status.busy": "2022-10-12T18:19:38.35696Z",
     "iopub.status.idle": "2022-10-12T18:19:38.384389Z",
     "shell.execute_reply": "2022-10-12T18:19:38.383447Z",
     "shell.execute_reply.started": "2022-10-12T18:19:38.35735Z"
    }
   },
   "outputs": [],
   "source": [
    "data_norm=data.copy()\n",
    "for column in data.columns:\n",
    "    data_norm[column] = (data_norm[column] - data_norm[column].min()) / (data_norm[column].max() - data_norm[column].min()) \n",
    "data_norm.head()"
   ]
  },
  {
   "cell_type": "code",
   "execution_count": null,
   "metadata": {
    "execution": {
     "iopub.execute_input": "2022-10-12T18:19:38.499397Z",
     "iopub.status.busy": "2022-10-12T18:19:38.498752Z",
     "iopub.status.idle": "2022-10-12T18:19:38.525501Z",
     "shell.execute_reply": "2022-10-12T18:19:38.524643Z",
     "shell.execute_reply.started": "2022-10-12T18:19:38.499356Z"
    }
   },
   "outputs": [],
   "source": [
    "lis=['Glucose','BloodPressure','SkinThickness','Insulin','BMI','DiabetesPedigreeFunction','Age','Pregnancies']\n",
    "def standartization(x):\n",
    "    x_std = x.copy(deep=True)\n",
    "    for column in lis:\n",
    "        x_std[column] = (x_std[column] - x_std[column].mean()) / x_std[column].std() \n",
    "    return x_std\n",
    "\n",
    "data= standartization(data)\n",
    "data.head()"
   ]
  },
  {
   "cell_type": "code",
   "execution_count": null,
   "metadata": {
    "execution": {
     "iopub.execute_input": "2022-10-12T18:19:38.659543Z",
     "iopub.status.busy": "2022-10-12T18:19:38.65858Z",
     "iopub.status.idle": "2022-10-12T18:19:38.673334Z",
     "shell.execute_reply": "2022-10-12T18:19:38.67234Z",
     "shell.execute_reply.started": "2022-10-12T18:19:38.659494Z"
    }
   },
   "outputs": [],
   "source": [
    "data.info()"
   ]
  },
  {
   "cell_type": "code",
   "execution_count": null,
   "metadata": {
    "execution": {
     "iopub.execute_input": "2022-10-12T18:19:38.813641Z",
     "iopub.status.busy": "2022-10-12T18:19:38.813223Z",
     "iopub.status.idle": "2022-10-12T18:19:38.823825Z",
     "shell.execute_reply": "2022-10-12T18:19:38.822687Z",
     "shell.execute_reply.started": "2022-10-12T18:19:38.813605Z"
    }
   },
   "outputs": [],
   "source": [
    "data['Outcome'].value_counts()"
   ]
  },
  {
   "cell_type": "code",
   "execution_count": null,
   "metadata": {
    "execution": {
     "iopub.execute_input": "2022-10-12T18:19:38.996826Z",
     "iopub.status.busy": "2022-10-12T18:19:38.995751Z",
     "iopub.status.idle": "2022-10-12T18:19:39.003286Z",
     "shell.execute_reply": "2022-10-12T18:19:39.002005Z",
     "shell.execute_reply.started": "2022-10-12T18:19:38.996784Z"
    }
   },
   "outputs": [],
   "source": [
    "y=data['Outcome']\n",
    "x=data.drop(['Outcome'],axis=1)"
   ]
  },
  {
   "cell_type": "code",
   "execution_count": null,
   "metadata": {
    "execution": {
     "iopub.execute_input": "2022-10-12T18:19:39.251028Z",
     "iopub.status.busy": "2022-10-12T18:19:39.250621Z",
     "iopub.status.idle": "2022-10-12T18:19:39.25841Z",
     "shell.execute_reply": "2022-10-12T18:19:39.256846Z",
     "shell.execute_reply.started": "2022-10-12T18:19:39.250984Z"
    }
   },
   "outputs": [],
   "source": [
    "yn=data_norm['Outcome']\n",
    "xn=data_norm.drop(['Outcome'],axis=1)"
   ]
  },
  {
   "cell_type": "markdown",
   "metadata": {},
   "source": [
    "I am creating separate train and test sets for standardised and normalised data. the ones having n as suffix are normalised."
   ]
  },
  {
   "cell_type": "code",
   "execution_count": null,
   "metadata": {
    "execution": {
     "iopub.execute_input": "2022-10-12T18:19:39.502827Z",
     "iopub.status.busy": "2022-10-12T18:19:39.502405Z",
     "iopub.status.idle": "2022-10-12T18:19:39.627626Z",
     "shell.execute_reply": "2022-10-12T18:19:39.625666Z",
     "shell.execute_reply.started": "2022-10-12T18:19:39.502791Z"
    }
   },
   "outputs": [],
   "source": [
    "from sklearn.model_selection import train_test_split\n",
    "xtrain,xtest,ytrain,ytest= train_test_split(x,y,test_size=0.15,stratify=y)\n",
    "print(xtrain.shape)\n",
    "print(xtest.shape)\n",
    "print(ytrain.shape)\n",
    "print(ytest.shape)"
   ]
  },
  {
   "cell_type": "code",
   "execution_count": null,
   "metadata": {
    "execution": {
     "iopub.execute_input": "2022-10-12T18:19:39.780188Z",
     "iopub.status.busy": "2022-10-12T18:19:39.778929Z",
     "iopub.status.idle": "2022-10-12T18:19:39.790347Z",
     "shell.execute_reply": "2022-10-12T18:19:39.789096Z",
     "shell.execute_reply.started": "2022-10-12T18:19:39.780133Z"
    }
   },
   "outputs": [],
   "source": [
    "from sklearn.model_selection import train_test_split\n",
    "xntrain,xntest,yntrain,yntest= train_test_split(xn,yn,test_size=0.15,stratify=y)\n",
    "print(xntrain.shape)\n",
    "print(xntest.shape)\n",
    "print(yntrain.shape)\n",
    "print(yntest.shape)"
   ]
  },
  {
   "cell_type": "code",
   "execution_count": null,
   "metadata": {
    "execution": {
     "iopub.execute_input": "2022-10-12T18:19:39.823954Z",
     "iopub.status.busy": "2022-10-12T18:19:39.823542Z",
     "iopub.status.idle": "2022-10-12T18:19:39.920486Z",
     "shell.execute_reply": "2022-10-12T18:19:39.919302Z",
     "shell.execute_reply.started": "2022-10-12T18:19:39.823921Z"
    }
   },
   "outputs": [],
   "source": [
    "from sklearn.svm import SVC\n",
    "svm_model= SVC(kernel='rbf',gamma=8)\n",
    "svm_model.fit(xntrain,yntrain)"
   ]
  },
  {
   "cell_type": "code",
   "execution_count": null,
   "metadata": {
    "execution": {
     "iopub.execute_input": "2022-10-12T18:19:39.965772Z",
     "iopub.status.busy": "2022-10-12T18:19:39.965335Z",
     "iopub.status.idle": "2022-10-12T18:19:40.049302Z",
     "shell.execute_reply": "2022-10-12T18:19:40.048088Z",
     "shell.execute_reply.started": "2022-10-12T18:19:39.965736Z"
    }
   },
   "outputs": [],
   "source": [
    "from sklearn.metrics import accuracy_score, confusion_matrix, classification_report\n",
    "predictions= svm_model.predict(xntrain)\n",
    "percentage=svm_model.score(xntrain,yntrain)\n",
    "res=confusion_matrix(yntrain,predictions)\n",
    "print(\"Training confusion matrix\")\n",
    "print(res)\n",
    "predictions= svm_model.predict(xntest)\n",
    "percentage=svm_model.score(xntest,yntest)\n",
    "res=confusion_matrix(yntest,predictions)\n",
    "print(\"validation confusion matrix\")\n",
    "print(res)\n",
    "print(classification_report(ytest, predictions))\n",
    "# check the accuracy on the training set\n",
    "print('training accuracy = '+str(svm_model.score(xntrain, yntrain)*100))\n",
    "print('testing accuracy = '+str(svm_model.score(xntest, yntest)*100))"
   ]
  },
  {
   "cell_type": "markdown",
   "metadata": {},
   "source": [
    "I trained the SVM without feature scaling and with standardisation. It produced test acc of 55% and 62% for no feature scaling and with standardisation. Hence normalisation is good for distance based algorithms like SVM."
   ]
  },
  {
   "cell_type": "markdown",
   "metadata": {},
   "source": [
    "For the DL part, I am considering ANN, comprising of 2 layers of 256 neurons as hidden layers. Considering more neurons and layers resulted in overfitting. Hence i limited with this hyperparameters. It was compiled using adam optimiser and crossentropy loss function."
   ]
  },
  {
   "cell_type": "code",
   "execution_count": null,
   "metadata": {
    "execution": {
     "iopub.execute_input": "2022-10-12T18:19:40.480123Z",
     "iopub.status.busy": "2022-10-12T18:19:40.479408Z",
     "iopub.status.idle": "2022-10-12T18:19:46.866684Z",
     "shell.execute_reply": "2022-10-12T18:19:46.865351Z",
     "shell.execute_reply.started": "2022-10-12T18:19:40.480085Z"
    }
   },
   "outputs": [],
   "source": [
    "import tensorflow as tf\n",
    "from tensorflow.keras import Sequential\n",
    "from tensorflow.keras.layers import Dense, Dropout\n",
    "dl_model = Sequential() \n",
    "\n",
    "dl_model.add(Dense(256,  activation = 'relu' ,input_shape=([8]))) #input layer\n",
    "dl_model.add(Dense(256,  activation = 'relu'))\n",
    "dl_model.add(Dense(1,activation = 'sigmoid'))\n",
    "dl_model.summary()\n",
    "dl_model.compile(optimizer = 'adam' , loss = 'binary_crossentropy' ,metrics = ['accuracy','Precision','Recall','AUC'])"
   ]
  },
  {
   "cell_type": "code",
   "execution_count": null,
   "metadata": {
    "execution": {
     "iopub.execute_input": "2022-10-12T18:19:46.869662Z",
     "iopub.status.busy": "2022-10-12T18:19:46.869211Z",
     "iopub.status.idle": "2022-10-12T18:20:09.843666Z",
     "shell.execute_reply": "2022-10-12T18:20:09.842553Z",
     "shell.execute_reply.started": "2022-10-12T18:19:46.869617Z"
    }
   },
   "outputs": [],
   "source": [
    "num_epochs = 50\n",
    "history = dl_model.fit(xtrain ,\n",
    "                    ytrain ,\n",
    "                    epochs= num_epochs ,\n",
    "                    steps_per_epoch=200,\n",
    "                    validation_data=(xtest ,ytest))"
   ]
  },
  {
   "cell_type": "code",
   "execution_count": null,
   "metadata": {
    "execution": {
     "iopub.execute_input": "2022-10-12T18:20:09.845617Z",
     "iopub.status.busy": "2022-10-12T18:20:09.845289Z",
     "iopub.status.idle": "2022-10-12T18:20:09.959531Z",
     "shell.execute_reply": "2022-10-12T18:20:09.958533Z",
     "shell.execute_reply.started": "2022-10-12T18:20:09.845587Z"
    }
   },
   "outputs": [],
   "source": [
    "dl_model.evaluate(xtrain,ytrain)"
   ]
  },
  {
   "cell_type": "code",
   "execution_count": null,
   "metadata": {
    "execution": {
     "iopub.execute_input": "2022-10-12T18:20:09.96285Z",
     "iopub.status.busy": "2022-10-12T18:20:09.96252Z",
     "iopub.status.idle": "2022-10-12T18:20:10.046771Z",
     "shell.execute_reply": "2022-10-12T18:20:10.045974Z",
     "shell.execute_reply.started": "2022-10-12T18:20:09.962818Z"
    }
   },
   "outputs": [],
   "source": [
    "dl_model.evaluate(xtest,ytest)"
   ]
  },
  {
   "cell_type": "markdown",
   "metadata": {},
   "source": [
    "As you can see, the ANN produced 68% test accuracy which is way less than SVM. Hence we can say that the ML algorithm produced well than that of DL algorithm. Can we stop with this conclusion or are we missing something??"
   ]
  },
  {
   "cell_type": "code",
   "execution_count": null,
   "metadata": {
    "execution": {
     "iopub.execute_input": "2022-10-12T18:20:10.048297Z",
     "iopub.status.busy": "2022-10-12T18:20:10.047966Z",
     "iopub.status.idle": "2022-10-12T18:20:10.057473Z",
     "shell.execute_reply": "2022-10-12T18:20:10.055946Z",
     "shell.execute_reply.started": "2022-10-12T18:20:10.048268Z"
    }
   },
   "outputs": [],
   "source": [
    "print(data['Outcome'].value_counts())\n",
    "df_class_0 = data[data['Outcome'] == 0]\n",
    "df_class_1 = data[data['Outcome'] == 1]"
   ]
  },
  {
   "cell_type": "markdown",
   "metadata": {},
   "source": [
    "As you can see, there is class imbalance, the amount of diabetes negative is twice than that of diabetes positive. In this scenario, we cant compare the performance of algorithms based on accuracy. So to overcome the class imbalance I oversampled the minority class to the samples of majority class (500). So the total data consits of 1000 samples with equal distribution. I repeated this process for the standardised and normalized datasets."
   ]
  },
  {
   "cell_type": "code",
   "execution_count": null,
   "metadata": {
    "execution": {
     "iopub.execute_input": "2022-10-12T18:20:10.059208Z",
     "iopub.status.busy": "2022-10-12T18:20:10.058829Z",
     "iopub.status.idle": "2022-10-12T18:20:10.074125Z",
     "shell.execute_reply": "2022-10-12T18:20:10.073337Z",
     "shell.execute_reply.started": "2022-10-12T18:20:10.059178Z"
    }
   },
   "outputs": [],
   "source": [
    "print(data_norm['Outcome'].value_counts())\n",
    "df_n_class_0 = data_norm[data_norm['Outcome'] == 0]\n",
    "df_n_class_1 = data_norm[data_norm['Outcome'] == 1]"
   ]
  },
  {
   "cell_type": "code",
   "execution_count": null,
   "metadata": {
    "execution": {
     "iopub.execute_input": "2022-10-12T18:20:10.07582Z",
     "iopub.status.busy": "2022-10-12T18:20:10.075453Z",
     "iopub.status.idle": "2022-10-12T18:20:10.094851Z",
     "shell.execute_reply": "2022-10-12T18:20:10.093682Z",
     "shell.execute_reply.started": "2022-10-12T18:20:10.075786Z"
    }
   },
   "outputs": [],
   "source": [
    "df_class_1_over = df_class_1.sample(500, replace=True)\n",
    "df_test_over = pd.concat([df_class_0, df_class_1_over], axis=0)\n",
    "df_test_over.info()"
   ]
  },
  {
   "cell_type": "code",
   "execution_count": null,
   "metadata": {
    "execution": {
     "iopub.execute_input": "2022-10-12T18:20:10.097152Z",
     "iopub.status.busy": "2022-10-12T18:20:10.09645Z",
     "iopub.status.idle": "2022-10-12T18:20:10.111487Z",
     "shell.execute_reply": "2022-10-12T18:20:10.110419Z",
     "shell.execute_reply.started": "2022-10-12T18:20:10.097106Z"
    }
   },
   "outputs": [],
   "source": [
    "df_n_class_1_over = df_n_class_1.sample(500, replace=True)\n",
    "df_test_n_over = pd.concat([df_n_class_0, df_n_class_1_over], axis=0)\n",
    "df_test_n_over.info()"
   ]
  },
  {
   "cell_type": "code",
   "execution_count": null,
   "metadata": {
    "execution": {
     "iopub.execute_input": "2022-10-12T18:20:10.113365Z",
     "iopub.status.busy": "2022-10-12T18:20:10.112942Z",
     "iopub.status.idle": "2022-10-12T18:20:10.123864Z",
     "shell.execute_reply": "2022-10-12T18:20:10.122833Z",
     "shell.execute_reply.started": "2022-10-12T18:20:10.113334Z"
    }
   },
   "outputs": [],
   "source": [
    "y1=df_test_over['Outcome']\n",
    "df_test_over=df_test_over.drop(['Outcome'],axis=1)\n",
    "X1=df_test_over"
   ]
  },
  {
   "cell_type": "code",
   "execution_count": null,
   "metadata": {
    "execution": {
     "iopub.execute_input": "2022-10-12T18:20:10.1275Z",
     "iopub.status.busy": "2022-10-12T18:20:10.127121Z",
     "iopub.status.idle": "2022-10-12T18:20:10.138298Z",
     "shell.execute_reply": "2022-10-12T18:20:10.137309Z",
     "shell.execute_reply.started": "2022-10-12T18:20:10.12747Z"
    }
   },
   "outputs": [],
   "source": [
    "y1n=df_test_n_over['Outcome']\n",
    "df_test_n_over=df_test_n_over.drop(['Outcome'],axis=1)\n",
    "X1n=df_test_n_over"
   ]
  },
  {
   "cell_type": "markdown",
   "metadata": {},
   "source": [
    "The rest of the parameters are the same. This includes the train test split ratio and the algorithm parameters. Now the SVM and ANN are trained using the upsampled datasets. The same as before, normalized dataset for SVM and standardized dataset for ANN. "
   ]
  },
  {
   "cell_type": "code",
   "execution_count": null,
   "metadata": {
    "execution": {
     "iopub.execute_input": "2022-10-12T18:20:10.140319Z",
     "iopub.status.busy": "2022-10-12T18:20:10.139493Z",
     "iopub.status.idle": "2022-10-12T18:20:10.154804Z",
     "shell.execute_reply": "2022-10-12T18:20:10.153086Z",
     "shell.execute_reply.started": "2022-10-12T18:20:10.140286Z"
    }
   },
   "outputs": [],
   "source": [
    "from sklearn.model_selection import train_test_split\n",
    "\n",
    "X1_s_train,X1_s_test ,y1_s_train, y1_s_test = train_test_split(X1,y1,\n",
    "                                                   test_size=0.2,\n",
    "                                                   random_state=0,\n",
    "                                                  shuffle = True,\n",
    "                                                  stratify = y1)\n",
    "\n",
    "print('training data shape is :{}.'.format(X1_s_train.shape))\n",
    "print('training label shape is :{}.'.format(y1_s_train.shape))\n",
    "print('testing data shape is :{}.'.format(X1_s_test.shape))\n",
    "print('testing label shape is :{}.'.format(y1_s_test.shape))"
   ]
  },
  {
   "cell_type": "code",
   "execution_count": null,
   "metadata": {
    "execution": {
     "iopub.execute_input": "2022-10-12T18:20:10.157204Z",
     "iopub.status.busy": "2022-10-12T18:20:10.156378Z",
     "iopub.status.idle": "2022-10-12T18:20:10.168608Z",
     "shell.execute_reply": "2022-10-12T18:20:10.167484Z",
     "shell.execute_reply.started": "2022-10-12T18:20:10.157169Z"
    }
   },
   "outputs": [],
   "source": [
    "from sklearn.model_selection import train_test_split\n",
    "\n",
    "X1_s_n_train,X1_s_n_test ,y1_s_n_train, y1_s_n_test = train_test_split(X1n,y1n,\n",
    "                                                   test_size=0.2,\n",
    "                                                   random_state=0,\n",
    "                                                  shuffle = True,\n",
    "                                                  stratify = y1n)\n",
    "\n",
    "print('training data shape is :{}.'.format(X1_s_n_train.shape))\n",
    "print('training label shape is :{}.'.format(y1_s_n_train.shape))\n",
    "print('testing data shape is :{}.'.format(X1_s_n_test.shape))\n",
    "print('testing label shape is :{}.'.format(y1_s_n_test.shape))"
   ]
  },
  {
   "cell_type": "code",
   "execution_count": null,
   "metadata": {
    "execution": {
     "iopub.execute_input": "2022-10-12T18:20:10.170653Z",
     "iopub.status.busy": "2022-10-12T18:20:10.170277Z",
     "iopub.status.idle": "2022-10-12T18:20:10.205112Z",
     "shell.execute_reply": "2022-10-12T18:20:10.203779Z",
     "shell.execute_reply.started": "2022-10-12T18:20:10.170622Z"
    }
   },
   "outputs": [],
   "source": [
    "from sklearn.svm import SVC\n",
    "svc_s_model = SVC(kernel='rbf',gamma=8)\n",
    "svc_s_model.fit(X1_s_n_train, y1_s_n_train)"
   ]
  },
  {
   "cell_type": "code",
   "execution_count": null,
   "metadata": {
    "execution": {
     "iopub.execute_input": "2022-10-12T18:20:10.207538Z",
     "iopub.status.busy": "2022-10-12T18:20:10.20706Z",
     "iopub.status.idle": "2022-10-12T18:20:10.322659Z",
     "shell.execute_reply": "2022-10-12T18:20:10.321389Z",
     "shell.execute_reply.started": "2022-10-12T18:20:10.207494Z"
    }
   },
   "outputs": [],
   "source": [
    "from sklearn.metrics import accuracy_score, confusion_matrix, classification_report\n",
    "predictions= svc_s_model.predict(X1_s_n_train)\n",
    "percentage=svc_s_model.score(X1_s_n_train,y1_s_n_train)\n",
    "res=confusion_matrix(y1_s_n_train,predictions)\n",
    "print(\"Training confusion matrix\")\n",
    "print(res)\n",
    "predictions= svc_s_model.predict(X1_s_n_test)\n",
    "percentage=svc_s_model.score(X1_s_n_test,y1_s_n_test)\n",
    "res=confusion_matrix(y1_s_n_test,predictions)\n",
    "print(\"validation confusion matrix\")\n",
    "print(res)\n",
    "print(classification_report(y1_s_n_test, predictions))\n",
    "# check the accuracy on the training set\n",
    "print('training accuracy = '+str(svc_s_model.score(X1_s_n_train, y1_s_n_train)*100))\n",
    "print('testing accuracy = '+str(svc_s_model.score(X1_s_n_test, y1_s_n_test)*100))"
   ]
  },
  {
   "cell_type": "markdown",
   "metadata": {},
   "source": [
    "There isn't much change in the accuracy of the algorithm but there is huge improvement in the classification report before and after sampling, especially for the diabetes class. "
   ]
  },
  {
   "cell_type": "code",
   "execution_count": null,
   "metadata": {
    "execution": {
     "iopub.execute_input": "2022-10-12T18:20:10.324202Z",
     "iopub.status.busy": "2022-10-12T18:20:10.323856Z",
     "iopub.status.idle": "2022-10-12T18:20:36.784314Z",
     "shell.execute_reply": "2022-10-12T18:20:36.783264Z",
     "shell.execute_reply.started": "2022-10-12T18:20:10.324171Z"
    }
   },
   "outputs": [],
   "source": [
    "num_epochs = 50\n",
    "history = dl_model.fit(X1_s_train ,\n",
    "                    y1_s_train ,\n",
    "                    epochs= num_epochs ,\n",
    "                    steps_per_epoch=200,\n",
    "                    validation_data=(X1_s_test ,y1_s_test))"
   ]
  },
  {
   "cell_type": "code",
   "execution_count": null,
   "metadata": {
    "execution": {
     "iopub.execute_input": "2022-10-12T18:20:36.787677Z",
     "iopub.status.busy": "2022-10-12T18:20:36.787304Z",
     "iopub.status.idle": "2022-10-12T18:20:37.442787Z",
     "shell.execute_reply": "2022-10-12T18:20:37.44179Z",
     "shell.execute_reply.started": "2022-10-12T18:20:36.787642Z"
    }
   },
   "outputs": [],
   "source": [
    "dl_model.evaluate(X1_s_train ,\n",
    "                    y1_s_train)"
   ]
  },
  {
   "cell_type": "code",
   "execution_count": null,
   "metadata": {
    "execution": {
     "iopub.execute_input": "2022-10-12T18:20:37.445594Z",
     "iopub.status.busy": "2022-10-12T18:20:37.444708Z",
     "iopub.status.idle": "2022-10-12T18:20:37.537321Z",
     "shell.execute_reply": "2022-10-12T18:20:37.536128Z",
     "shell.execute_reply.started": "2022-10-12T18:20:37.445543Z"
    }
   },
   "outputs": [],
   "source": [
    "dl_model.evaluate(X1_s_test ,y1_s_test)"
   ]
  },
  {
   "cell_type": "markdown",
   "metadata": {},
   "source": [
    "The ANN trained on the standardised and upsampled data performed the best result with 93% test accuracy. I have done a lot of work in this notebook, hope this deserves an upvote!! Thanks...\n",
    "Please do mention if I have done something wrong."
   ]
  }
 ],
 "metadata": {
  "kernelspec": {
   "display_name": "Python 3 (ipykernel)",
   "language": "python",
   "name": "python3"
  },
  "language_info": {
   "codemirror_mode": {
    "name": "ipython",
    "version": 3
   },
   "file_extension": ".py",
   "mimetype": "text/x-python",
   "name": "python",
   "nbconvert_exporter": "python",
   "pygments_lexer": "ipython3",
   "version": "3.9.13"
  }
 },
 "nbformat": 4,
 "nbformat_minor": 4
}
