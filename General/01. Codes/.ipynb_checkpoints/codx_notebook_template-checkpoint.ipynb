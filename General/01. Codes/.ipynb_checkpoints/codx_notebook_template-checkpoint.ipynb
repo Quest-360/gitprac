{
 "cells": [
  {
   "cell_type": "markdown",
   "metadata": {},
   "source": [
    "## This is your Downloaded Blueprint Notebook ##"
   ]
  },
  {
   "cell_type": "code",
   "execution_count": null,
   "metadata": {},
   "outputs": [],
   "source": [
    "# tags to identify this iteration when submitted\n",
    "# example: codex_tags = {'env': 'dev', 'region': 'USA', 'product_category': 'A'}\n",
    "\n",
    "codex_tags = {\n",
    "}\n",
    "\n",
    "from codex_widget_factory import utils\n",
    "results_json=[]\n",
    "\n"
   ]
  },
  {
   "cell_type": "markdown",
   "metadata": {},
   "source": [
    "### Ingestion File System"
   ]
  },
  {
   "cell_type": "code",
   "execution_count": null,
   "metadata": {},
   "outputs": [],
   "source": [
    "#BEGIN WIDGET CODE BELOW...\n",
    "\n",
    "from codex_widget_factory.ingestion.file_system import get_ingested_data as ingestion_file_system_get_ingested_data\n",
    "response_0 = ingestion_file_system_get_ingested_data('C:\\Users\\SreevidyaRaman\\OneDrive - TheMathCompany Private Limited\\Documents\\Co.ach\\Co.dx\\Dataset_csv.csv')\n",
    "results_json.append({\n",
    "  'type': 'Ingestion',\n",
    "  'name': 'File System',\n",
    "  'component': 'get_ingested_data',\n",
    "  'visual_results': utils.get_response_visuals(response_0),\n",
    "  'metrics': False\n",
    "})\n",
    "utils.render_response(response_0)\n",
    "\n",
    "#END WIDGET CODE\n",
    "\n"
   ]
  },
  {
   "cell_type": "markdown",
   "metadata": {},
   "source": [
    "### Custom Convert to csv"
   ]
  },
  {
   "cell_type": "code",
   "execution_count": null,
   "metadata": {},
   "outputs": [],
   "source": [
    "#BEGIN CUSTOM CODE BELOW...\n",
    "\n",
    "#upstream params found\n",
    "# response_0\n",
    "\n",
    "#put your output in this response param for connecting to downstream widgets\n",
    "response_1\n",
    "\n",
    "#END CUSTOM CODE\n",
    "\n"
   ]
  },
  {
   "cell_type": "markdown",
   "metadata": {},
   "source": [
    "### Transformation Set a Column as DateTimeIndex"
   ]
  },
  {
   "cell_type": "code",
   "execution_count": null,
   "metadata": {},
   "outputs": [],
   "source": [
    "#BEGIN WIDGET CODE BELOW...\n",
    "\n",
    "from codex_widget_factory.transformation.set_col_as_dt_index import get_transformed_data as transformation_set_col_as_dt_index_get_transformed_data\n",
    "response_2 = transformation_set_col_as_dt_index_get_transformed_data(response_0, date_col='date')\n",
    "results_json.append({\n",
    "  'type': 'Transformation',\n",
    "  'name': 'Set a Column as DateTimeIndex',\n",
    "  'component': 'get_transformed_data',\n",
    "  'visual_results': utils.get_response_visuals(response_2),\n",
    "  'metrics': False\n",
    "})\n",
    "utils.render_response(response_2)\n",
    "\n",
    "#END WIDGET CODE\n",
    "\n"
   ]
  },
  {
   "cell_type": "markdown",
   "metadata": {},
   "source": [
    "### Transformation Impute Time Series"
   ]
  },
  {
   "cell_type": "code",
   "execution_count": null,
   "metadata": {},
   "outputs": [],
   "source": [
    "#BEGIN WIDGET CODE BELOW...\n",
    "\n",
    "from codex_widget_factory.transformation.impute_time_series import get_transformed_data as transformation_impute_time_series_get_transformed_data\n",
    "response_3 = transformation_impute_time_series_get_transformed_data(response_2)\n",
    "results_json.append({\n",
    "  'type': 'Transformation',\n",
    "  'name': 'Impute Time Series',\n",
    "  'component': 'get_transformed_data',\n",
    "  'visual_results': utils.get_response_visuals(response_3),\n",
    "  'metrics': False\n",
    "})\n",
    "utils.render_response(response_3)\n",
    "\n",
    "#END WIDGET CODE\n",
    "\n"
   ]
  },
  {
   "cell_type": "markdown",
   "metadata": {},
   "source": [
    "### Exploration Analysis Time Series Univariate Report"
   ]
  },
  {
   "cell_type": "code",
   "execution_count": null,
   "metadata": {},
   "outputs": [],
   "source": [
    "#BEGIN WIDGET CODE BELOW...\n",
    "\n",
    "from codex_widget_factory.exploration_analysis.ts_univariate_report import summary as exploration_analysis_ts_univariate_report_summary\n",
    "response_4 = exploration_analysis_ts_univariate_report_summary(response_3, season_var='sales')\n",
    "results_json.append({\n",
    "  'type': 'Exploration Analysis',\n",
    "  'name': 'Time Series Univariate Report',\n",
    "  'component': 'summary',\n",
    "  'visual_results': utils.get_response_visuals(response_4),\n",
    "  'metrics': False\n",
    "})\n",
    "utils.render_response(response_4)\n",
    "\n",
    "#END WIDGET CODE\n",
    "\n"
   ]
  },
  {
   "cell_type": "markdown",
   "metadata": {},
   "source": [
    "### Model Build  ARIMA"
   ]
  },
  {
   "cell_type": "code",
   "execution_count": null,
   "metadata": {},
   "outputs": [],
   "source": [
    "#BEGIN WIDGET CODE BELOW...\n",
    "\n",
    "from codex_widget_factory.model_build.arima import build as model_build_arima_build\n",
    "response_5 = model_build_arima_build(response_3, dep_var='sales')\n",
    "results_json.append({\n",
    "  'type': 'Model Build ',\n",
    "  'name': 'ARIMA',\n",
    "  'component': 'build',\n",
    "  'visual_results': utils.get_response_visuals(response_5),\n",
    "  'metrics': False\n",
    "})\n",
    "utils.render_response(response_5)\n",
    "\n",
    "#END WIDGET CODE\n",
    "\n"
   ]
  },
  {
   "cell_type": "code",
   "execution_count": null,
   "metadata": {},
   "outputs": [],
   "source": [
    "#BEGIN WIDGET CODE BELOW...\n",
    "\n",
    "from codex_widget_factory.model_build.arima import summary as model_build_arima_summary\n",
    "response_6 = model_build_arima_summary(response_3, dep_var='sales', model_obj=response_5)\n",
    "results_json.append({\n",
    "  'type': 'Model Build ',\n",
    "  'name': 'ARIMA',\n",
    "  'component': 'summary',\n",
    "  'visual_results': utils.get_response_visuals(response_6),\n",
    "  'metrics': False\n",
    "})\n",
    "utils.render_response(response_6)\n",
    "\n",
    "#END WIDGET CODE\n",
    "\n"
   ]
  },
  {
   "cell_type": "code",
   "execution_count": null,
   "metadata": {},
   "outputs": [],
   "source": [
    "#BEGIN WIDGET CODE BELOW...\n",
    "\n",
    "from codex_widget_factory.model_build.arima import predict as model_build_arima_predict\n",
    "response_7 = model_build_arima_predict(response_3, model_obj=response_5, dep_var='sales', steps=30)\n",
    "results_json.append({\n",
    "  'type': 'Model Build ',\n",
    "  'name': 'ARIMA',\n",
    "  'component': 'predict',\n",
    "  'visual_results': utils.get_response_visuals(response_7),\n",
    "  'metrics': False\n",
    "})\n",
    "utils.render_response(response_7)\n",
    "\n",
    "#END WIDGET CODE\n",
    "\n"
   ]
  },
  {
   "cell_type": "markdown",
   "metadata": {},
   "source": [
    "### Model Build  Holt Winter"
   ]
  },
  {
   "cell_type": "code",
   "execution_count": null,
   "metadata": {},
   "outputs": [],
   "source": [
    "#BEGIN WIDGET CODE BELOW...\n",
    "\n",
    "from codex_widget_factory.model_build.holt_winter import build as model_build_holt_winter_build\n",
    "response_8 = model_build_holt_winter_build(response_3, dep_var='sales', use_boxcox=False)\n",
    "results_json.append({\n",
    "  'type': 'Model Build ',\n",
    "  'name': 'Holt Winter',\n",
    "  'component': 'build',\n",
    "  'visual_results': utils.get_response_visuals(response_8),\n",
    "  'metrics': False\n",
    "})\n",
    "utils.render_response(response_8)\n",
    "\n",
    "#END WIDGET CODE\n",
    "\n"
   ]
  },
  {
   "cell_type": "code",
   "execution_count": null,
   "metadata": {},
   "outputs": [],
   "source": [
    "#BEGIN WIDGET CODE BELOW...\n",
    "\n",
    "from codex_widget_factory.model_build.holt_winter import summary as model_build_holt_winter_summary\n",
    "response_9 = model_build_holt_winter_summary(response_3, dep_var='sales', model_obj=response_8)\n",
    "results_json.append({\n",
    "  'type': 'Model Build ',\n",
    "  'name': 'Holt Winter',\n",
    "  'component': 'summary',\n",
    "  'visual_results': utils.get_response_visuals(response_9),\n",
    "  'metrics': False\n",
    "})\n",
    "utils.render_response(response_9)\n",
    "\n",
    "#END WIDGET CODE\n",
    "\n"
   ]
  },
  {
   "cell_type": "code",
   "execution_count": null,
   "metadata": {},
   "outputs": [],
   "source": [
    "#BEGIN WIDGET CODE BELOW...\n",
    "\n",
    "from codex_widget_factory.model_build.holt_winter import predict as model_build_holt_winter_predict\n",
    "response_10 = model_build_holt_winter_predict(response_3, model_obj=response_8, dep_var='sales', steps=30)\n",
    "results_json.append({\n",
    "  'type': 'Model Build ',\n",
    "  'name': 'Holt Winter',\n",
    "  'component': 'predict',\n",
    "  'visual_results': utils.get_response_visuals(response_10),\n",
    "  'metrics': False\n",
    "})\n",
    "utils.render_response(response_10)\n",
    "\n",
    "#END WIDGET CODE\n",
    "\n"
   ]
  },
  {
   "cell_type": "markdown",
   "metadata": {},
   "source": [
    "### Please save and checkpoint notebook before submitting params"
   ]
  },
  {
   "cell_type": "code",
   "execution_count": null,
   "metadata": {},
   "outputs": [],
   "source": [
    "\n",
    "currentNotebook = 'LHS21_Sales_Forecasting_974_config_271030_202204221311.ipynb'\n",
    "\n",
    "!jupyter nbconvert --to script {currentNotebook} \n",
    "\n"
   ]
  },
  {
   "cell_type": "code",
   "execution_count": null,
   "metadata": {},
   "outputs": [],
   "source": [
    "\n",
    "utils.submit_config_params(url='https://codex-api-stage.azurewebsites.net/codex-api/projects/upload-config-params/7DF9880836FFE4BA6276944E6E3C6E9E4324BF8737DAEA510A5E725B7DC5D8AF', nb_name=currentNotebook, results=results_json, codex_tags=codex_tags, args={})"
   ]
  }
 ],
 "metadata": {
  "kernelspec": {
   "display_name": "Python 3 (ipykernel)",
   "language": "python",
   "name": "python3"
  },
  "language_info": {
   "codemirror_mode": {
    "name": "ipython",
    "version": 3
   },
   "file_extension": ".py",
   "mimetype": "text/x-python",
   "name": "python",
   "nbconvert_exporter": "python",
   "pygments_lexer": "ipython3",
   "version": "3.9.13"
  }
 },
 "nbformat": 4,
 "nbformat_minor": 2
}
